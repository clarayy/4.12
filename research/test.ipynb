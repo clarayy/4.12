{
 "cells": [
  {
   "cell_type": "code",
   "execution_count": 11,
   "metadata": {},
   "outputs": [
    {
     "data": {
      "image/png": "[encoded data removed]",
      "text/plain": "<Figure size 432x288 with 1 Axes>"
     },
     "metadata": {},
     "output_type": "display_data"
    }
   ],
   "source": [
    "import numpy as np\n",
    "import pandas as pd\n",
    "import matplotlib.pyplot as plt\n",
    "import csv\n",
    "import networkx as nx\n",
    "import os\n",
    "import random\n",
    "from itertools import islice\n",
    "import math\n",
    "G = nx.Graph()\n",
    "G.add_edges_from([(20, 46), (20, 18), (61, 41), (82, 2), (96, 2), (2, 6), (2, 8), (2, 10), (2, 23), (2, 9), (2, 19), (2, 27), (32, 63), (37, 18), (39, 64), (93, 47), (8, 13), (8, 18), (8, 38), (8, 40), (8, 52)])\n",
    "# G.remove_node(1)#删去与节点相连的边，但保留另一个节点\n",
    "# print(list(G.nodes()))\n",
    "# print(list(G.edges()))\n",
    "nx.draw(G,with_labels = True)\n",
    "plt.show()"
   ]
  },
  {
   "cell_type": "code",
   "execution_count": 12,
   "metadata": {},
   "outputs": [
    {
     "name": "stdout",
     "output_type": "stream",
     "text": [
      "jc: [18, 8]\n",
      "ub: 8\n",
      "dc: 61\n",
      "da: 2\n"
     ]
    }
   ],
   "source": [
    "\n",
    "import math\n",
    "center_frozen_graph = nx.freeze(G)#G被冷冻为frozen_graph，不会改变\n",
    "center_unfrozen_graph = nx.Graph(center_frozen_graph)#删除节点在非冷冻图上进行，冷冻图不变\n",
    "Gc_node = max(nx.connected_components(G), key=len)   #sub_newG的最大连通子图来求Jordan Center\n",
    "#print(Gc_node)\n",
    "Gc = center_unfrozen_graph.subgraph(Gc_node)    #改变了G_small，使其成为最大连通子图\n",
    "Jordan_center  = nx.center(Gc)\n",
    "print(\"jc:\",Jordan_center)\n",
    "\n",
    "#无偏中介中心性\n",
    "bet_cen = nx.betweenness_centrality(G)#节点的中介中心性\n",
    "deg = G.degree()#节点的度\n",
    "ub={}\n",
    "for i in bet_cen.keys():\n",
    "    if deg[i]!=0:\n",
    "        ub[i] = bet_cen[i]/(math.pow(deg[i],0.85))\n",
    "unbiased_betweenness = max(ub, key=lambda x: ub[x])\n",
    "print(\"ub:\",unbiased_betweenness)\n",
    "\n",
    "#distance centrality\n",
    "p = dict(nx.shortest_path_length(G))\n",
    "d={}\n",
    "for k,v in p.items():\n",
    "    s=0\n",
    "    for i in v.values():\n",
    "        s = s+i\n",
    "    d[k] = s\n",
    "distance_centrality = min(d, key=lambda x: d[x])\n",
    "print(\"dc:\",distance_centrality)\n",
    "#dynamic ages\n",
    "frozen_graph = nx.freeze(G)#G被冷冻为frozen_graph，不会改变\n",
    "unfrozen_graph = nx.Graph(frozen_graph)#删除节点在非冷冻图上进行，冷冻图不变\n",
    "AS = nx.adjacency_spectrum(frozen_graph)#邻接矩阵特征值\n",
    "m = np.real(AS).round(4).max()\n",
    "all_nodes = G.nodes\n",
    "#print(all_nodes)\n",
    "da = {}                             ###!!!!!字典才对\n",
    "for i in all_nodes:\n",
    "    unfrozen_graph.remove_node(i)\n",
    "    AS1 = nx.adjacency_spectrum(unfrozen_graph)\n",
    "    m1 = np.real(AS1).round(4).max()\n",
    "    da[i] = float(format(abs(m-m1)/m,'.4f'))   #单独运算看对不对\n",
    "    unfrozen_graph = nx.Graph(frozen_graph)\n",
    "dynage = max(da, key=lambda x: da[x])\n",
    "print(\"da:\",dynage)"
   ]
  },
  {
   "cell_type": "code",
   "execution_count": 26,
   "metadata": {},
   "outputs": [
    {
     "name": "stdout",
     "output_type": "stream",
     "text": [
      "0\n"
     ]
    }
   ],
   "source": [
    "from random import choice\n",
    "jc = [5,0,7]\n",
    "print(choice(jc))"
   ]
  }
 ],
 "metadata": {
  "kernelspec": {
   "display_name": "Python 3.7.10 64-bit ('GNN': conda)",
   "metadata": {
    "interpreter": {
     "hash": "c4423b6aa4b0b073aa5ca5fd1d89f4f39c9b03652bb11876c46255c805504e57"
    }
   },
   "name": "python3"
  },
  "language_info": {
   "codemirror_mode": {
    "name": "ipython",
    "version": 3
   },
   "file_extension": ".py",
   "mimetype": "text/x-python",
   "name": "python",
   "nbconvert_exporter": "python",
   "pygments_lexer": "ipython3",
   "version": "3.7.10"
  },
  "orig_nbformat": 2
 },
 "nbformat": 4,
 "nbformat_minor": 2
}